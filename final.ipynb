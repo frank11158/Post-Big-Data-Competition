{
 "cells": [
  {
   "cell_type": "code",
   "execution_count": 77,
   "metadata": {},
   "outputs": [],
   "source": [
    "import pandas as pd\n",
    "import numpy as np\n",
    "import matplotlib.pyplot as plt\n",
    "import random\n",
    "import math\n",
    "\n",
    "from sklearn.preprocessing import LabelEncoder\n",
    "from sklearn.metrics import accuracy_score, confusion_matrix\n",
    "from sklearn.pipeline import Pipeline\n",
    "\n",
    "import lightgbm as lgb\n",
    "\n",
    "import time\n",
    "import pickle\n",
    "import gc"
   ]
  },
  {
   "cell_type": "code",
   "execution_count": 2,
   "metadata": {},
   "outputs": [],
   "source": [
    "df_final = pd.read_csv('./data/data_final_05082019.csv')"
   ]
  },
  {
   "cell_type": "code",
   "execution_count": 3,
   "metadata": {},
   "outputs": [
    {
     "data": {
      "text/html": [
       "<div>\n",
       "<style scoped>\n",
       "    .dataframe tbody tr th:only-of-type {\n",
       "        vertical-align: middle;\n",
       "    }\n",
       "\n",
       "    .dataframe tbody tr th {\n",
       "        vertical-align: top;\n",
       "    }\n",
       "\n",
       "    .dataframe thead th {\n",
       "        text-align: right;\n",
       "    }\n",
       "</style>\n",
       "<table border=\"1\" class=\"dataframe\">\n",
       "  <thead>\n",
       "    <tr style=\"text-align: right;\">\n",
       "      <th></th>\n",
       "      <th>Unnamed: 0</th>\n",
       "      <th>zipcode</th>\n",
       "      <th>date</th>\n",
       "      <th>Mail_Number</th>\n",
       "      <th>statusNum</th>\n",
       "      <th>time</th>\n",
       "      <th>cate</th>\n",
       "      <th>hPa</th>\n",
       "      <th>Temper_C</th>\n",
       "      <th>Wind</th>\n",
       "      <th>Rain_mm</th>\n",
       "      <th>rate_sun</th>\n",
       "      <th>zipcode_3D</th>\n",
       "    </tr>\n",
       "  </thead>\n",
       "  <tbody>\n",
       "    <tr>\n",
       "      <th>0</th>\n",
       "      <td>1</td>\n",
       "      <td>10000</td>\n",
       "      <td>2018-01-03</td>\n",
       "      <td>A04221400105370</td>\n",
       "      <td>I</td>\n",
       "      <td>16:15:04</td>\n",
       "      <td>32</td>\n",
       "      <td>1015.2</td>\n",
       "      <td>21.7</td>\n",
       "      <td>11.8</td>\n",
       "      <td>0.0</td>\n",
       "      <td>53.9</td>\n",
       "      <td>100</td>\n",
       "    </tr>\n",
       "    <tr>\n",
       "      <th>1</th>\n",
       "      <td>2</td>\n",
       "      <td>10000</td>\n",
       "      <td>2018-01-03</td>\n",
       "      <td>A14611700101074</td>\n",
       "      <td>I</td>\n",
       "      <td>10:54:12</td>\n",
       "      <td>32</td>\n",
       "      <td>1015.2</td>\n",
       "      <td>21.7</td>\n",
       "      <td>11.8</td>\n",
       "      <td>0.0</td>\n",
       "      <td>53.9</td>\n",
       "      <td>100</td>\n",
       "    </tr>\n",
       "    <tr>\n",
       "      <th>2</th>\n",
       "      <td>3</td>\n",
       "      <td>10000</td>\n",
       "      <td>2018-01-03</td>\n",
       "      <td>A18749400105670</td>\n",
       "      <td>I</td>\n",
       "      <td>15:52:51</td>\n",
       "      <td>11</td>\n",
       "      <td>1015.2</td>\n",
       "      <td>21.7</td>\n",
       "      <td>11.8</td>\n",
       "      <td>0.0</td>\n",
       "      <td>53.9</td>\n",
       "      <td>100</td>\n",
       "    </tr>\n",
       "    <tr>\n",
       "      <th>3</th>\n",
       "      <td>4</td>\n",
       "      <td>10000</td>\n",
       "      <td>2018-01-03</td>\n",
       "      <td>A90592422000210236009</td>\n",
       "      <td>I</td>\n",
       "      <td>13:25:14</td>\n",
       "      <td>11</td>\n",
       "      <td>1015.2</td>\n",
       "      <td>21.7</td>\n",
       "      <td>11.8</td>\n",
       "      <td>0.0</td>\n",
       "      <td>53.9</td>\n",
       "      <td>100</td>\n",
       "    </tr>\n",
       "    <tr>\n",
       "      <th>4</th>\n",
       "      <td>5</td>\n",
       "      <td>10000</td>\n",
       "      <td>2018-01-03</td>\n",
       "      <td>A93511810005510104002</td>\n",
       "      <td>I</td>\n",
       "      <td>14:58:28</td>\n",
       "      <td>11</td>\n",
       "      <td>1015.2</td>\n",
       "      <td>21.7</td>\n",
       "      <td>11.8</td>\n",
       "      <td>0.0</td>\n",
       "      <td>53.9</td>\n",
       "      <td>100</td>\n",
       "    </tr>\n",
       "  </tbody>\n",
       "</table>\n",
       "</div>"
      ],
      "text/plain": [
       "   Unnamed: 0  zipcode        date            Mail_Number statusNum      time  \\\n",
       "0           1    10000  2018-01-03        A04221400105370         I  16:15:04   \n",
       "1           2    10000  2018-01-03        A14611700101074         I  10:54:12   \n",
       "2           3    10000  2018-01-03        A18749400105670         I  15:52:51   \n",
       "3           4    10000  2018-01-03  A90592422000210236009         I  13:25:14   \n",
       "4           5    10000  2018-01-03  A93511810005510104002         I  14:58:28   \n",
       "\n",
       "   cate     hPa  Temper_C  Wind  Rain_mm  rate_sun  zipcode_3D  \n",
       "0    32  1015.2      21.7  11.8      0.0      53.9         100  \n",
       "1    32  1015.2      21.7  11.8      0.0      53.9         100  \n",
       "2    11  1015.2      21.7  11.8      0.0      53.9         100  \n",
       "3    11  1015.2      21.7  11.8      0.0      53.9         100  \n",
       "4    11  1015.2      21.7  11.8      0.0      53.9         100  "
      ]
     },
     "execution_count": 3,
     "metadata": {},
     "output_type": "execute_result"
    }
   ],
   "source": [
    "df_final.head()"
   ]
  },
  {
   "cell_type": "markdown",
   "metadata": {},
   "source": [
    "# Data Preprocessing"
   ]
  },
  {
   "cell_type": "markdown",
   "metadata": {},
   "source": [
    "### Encoding and Change Datatype"
   ]
  },
  {
   "cell_type": "code",
   "execution_count": 5,
   "metadata": {},
   "outputs": [],
   "source": [
    "df_final['statusNum'] = df_final['statusNum'].apply(lambda x: 1 if x == 'I' else 0).astype('int8')"
   ]
  },
  {
   "cell_type": "code",
   "execution_count": 109,
   "metadata": {},
   "outputs": [
    {
     "data": {
      "text/plain": [
       "829"
      ]
     },
     "execution_count": 109,
     "metadata": {},
     "output_type": "execute_result"
    }
   ],
   "source": [
    "df_final = df_final.drop(['Unnamed: 0', 'Mail_Number'], axis=1)\n",
    "df_final.zipcode = df_final.zipcode.astype('str')\n",
    "df_final.cate = df_final.cate.astype('int8')\n",
    "df_final.hPa = df_final.hPa.astype('float16')\n",
    "df_final.Temper_C = df_final.Temper_C.astype('float16')\n",
    "df_final.Wind = df_final.Wind.astype('float16')\n",
    "df_final.Rain_mm = df_final.Rain_mm.astype('float16')\n",
    "df_final.rate_sun = df_final.rate_sun.astype('float16')\n",
    "df_final.zipcode_3D = df_final.zipcode_3D.astype('str')\n",
    "\n",
    "# Label Encode: cate, zipcode and zipcode_3D\n",
    "df_final['cate'] = LabelEncoder().fit_transform(df_final['cate']).astype('int8')\n",
    "df_final['zipcode'] = LabelEncoder().fit_transform(df_final['zipcode']).astype('int16')\n",
    "df_final['zipcode_3D'] = LabelEncoder().fit_transform(df_final['zipcode_3D']).astype('int16')\n",
    "gc.collect()"
   ]
  },
  {
   "cell_type": "markdown",
   "metadata": {},
   "source": [
    "### Fill NaN in Weather Data with Proper Values"
   ]
  },
  {
   "cell_type": "code",
   "execution_count": 71,
   "metadata": {},
   "outputs": [
    {
     "name": "stdout",
     "output_type": "stream",
     "text": [
      "hPa\n",
      "Temper_C\n",
      "Wind\n",
      "Rain_mm\n",
      "rate_sun\n"
     ]
    }
   ],
   "source": [
    "def fill_na(df):\n",
    "    for col in df.columns:\n",
    "        if df[col].isnull().any():\n",
    "            if col == 'hPa' or 'Temper_C' or 'Wind' or 'rate_sun':\n",
    "                print(col)\n",
    "                group = df.groupby('date')[[col]].median()\n",
    "                index_nan = df[df[col].isnull()].index\n",
    "                df.loc[index_nan, col] = df.loc[index_nan, 'date'].apply(lambda x: group[group.index == x][col].values[0])\n",
    "            elif col == 'Rain_mm':\n",
    "                df[col].fillna(0, inplace=True)\n",
    "    return df\n",
    "df_final = fill_na(df_final)"
   ]
  },
  {
   "cell_type": "markdown",
   "metadata": {},
   "source": [
    "### Select Datetime Features"
   ]
  },
  {
   "cell_type": "code",
   "execution_count": 72,
   "metadata": {},
   "outputs": [
    {
     "data": {
      "text/plain": [
       "2168"
      ]
     },
     "execution_count": 72,
     "metadata": {},
     "output_type": "execute_result"
    }
   ],
   "source": [
    "df_final['datetime'] = pd.to_datetime(df_final.loc[:,'date'] + \" \" + df_final.loc[:,'time'])\n",
    "# df_final['month'] = df_final.datetime.dt.month.astype('int8')\n",
    "df_final['weekday'] = df_final.datetime.dt.weekday.astype('int8')\n",
    "df_final['hour'] = df_final.datetime.dt.hour.astype('int8')\n",
    "\n",
    "df_final = df_final.drop(['date', 'time', 'datetime'], axis=1)\n",
    "gc.collect()"
   ]
  },
  {
   "cell_type": "code",
   "execution_count": 107,
   "metadata": {},
   "outputs": [
    {
     "name": "stdout",
     "output_type": "stream",
     "text": [
      "<class 'pandas.core.frame.DataFrame'>\n",
      "RangeIndex: 14006444 entries, 0 to 14006443\n",
      "Data columns (total 12 columns):\n",
      "zipcode       int16\n",
      "statusNum     int8\n",
      "cate          int16\n",
      "hPa           float16\n",
      "Temper_C      float16\n",
      "Wind          float16\n",
      "Rain_mm       float16\n",
      "rate_sun      float16\n",
      "zipcode_3D    int16\n",
      "month         int8\n",
      "weekday       int8\n",
      "hour          int8\n",
      "dtypes: float16(5), int16(3), int8(4)\n",
      "memory usage: 267.2 MB\n"
     ]
    }
   ],
   "source": [
    "df_final.info()"
   ]
  },
  {
   "cell_type": "code",
   "execution_count": 154,
   "metadata": {},
   "outputs": [],
   "source": [
    "df_final.to_pickle('data.pkl')\n",
    "del df_final\n",
    "gc.collect()"
   ]
  },
  {
   "cell_type": "markdown",
   "metadata": {},
   "source": [
    "# Modeling: Test with LightGBM"
   ]
  },
  {
   "cell_type": "code",
   "execution_count": 155,
   "metadata": {},
   "outputs": [],
   "source": [
    "df_final = pd.read_pickle('./data/data.pkl')"
   ]
  },
  {
   "cell_type": "markdown",
   "metadata": {},
   "source": [
    "### Split/Resample/Scale"
   ]
  },
  {
   "cell_type": "code",
   "execution_count": 146,
   "metadata": {},
   "outputs": [],
   "source": [
    "X_train = df_final[df_final['month'] < 3].drop(['statusNum'], axis=1)\n",
    "Y_train = df_final[df_final['month'] < 3]['statusNum']\n",
    "X_test = df_final[df_final['month'] >= 3].drop(['statusNum'], axis=1)\n",
    "Y_test = df_final[df_final['month'] >= 3]['statusNum']"
   ]
  },
  {
   "cell_type": "code",
   "execution_count": 147,
   "metadata": {},
   "outputs": [
    {
     "data": {
      "text/html": [
       "<div>\n",
       "<style scoped>\n",
       "    .dataframe tbody tr th:only-of-type {\n",
       "        vertical-align: middle;\n",
       "    }\n",
       "\n",
       "    .dataframe tbody tr th {\n",
       "        vertical-align: top;\n",
       "    }\n",
       "\n",
       "    .dataframe thead th {\n",
       "        text-align: right;\n",
       "    }\n",
       "</style>\n",
       "<table border=\"1\" class=\"dataframe\">\n",
       "  <thead>\n",
       "    <tr style=\"text-align: right;\">\n",
       "      <th></th>\n",
       "      <th>zipcode</th>\n",
       "      <th>cate</th>\n",
       "      <th>hPa</th>\n",
       "      <th>Temper_C</th>\n",
       "      <th>Wind</th>\n",
       "      <th>Rain_mm</th>\n",
       "      <th>rate_sun</th>\n",
       "      <th>zipcode_3D</th>\n",
       "      <th>month</th>\n",
       "      <th>weekday</th>\n",
       "      <th>hour</th>\n",
       "    </tr>\n",
       "  </thead>\n",
       "  <tbody>\n",
       "    <tr>\n",
       "      <th>0</th>\n",
       "      <td>0</td>\n",
       "      <td>11</td>\n",
       "      <td>1015.0</td>\n",
       "      <td>21.703125</td>\n",
       "      <td>11.796875</td>\n",
       "      <td>0.0</td>\n",
       "      <td>53.90625</td>\n",
       "      <td>0</td>\n",
       "      <td>1</td>\n",
       "      <td>2</td>\n",
       "      <td>16</td>\n",
       "    </tr>\n",
       "    <tr>\n",
       "      <th>1</th>\n",
       "      <td>0</td>\n",
       "      <td>11</td>\n",
       "      <td>1015.0</td>\n",
       "      <td>21.703125</td>\n",
       "      <td>11.796875</td>\n",
       "      <td>0.0</td>\n",
       "      <td>53.90625</td>\n",
       "      <td>0</td>\n",
       "      <td>1</td>\n",
       "      <td>2</td>\n",
       "      <td>10</td>\n",
       "    </tr>\n",
       "    <tr>\n",
       "      <th>2</th>\n",
       "      <td>0</td>\n",
       "      <td>0</td>\n",
       "      <td>1015.0</td>\n",
       "      <td>21.703125</td>\n",
       "      <td>11.796875</td>\n",
       "      <td>0.0</td>\n",
       "      <td>53.90625</td>\n",
       "      <td>0</td>\n",
       "      <td>1</td>\n",
       "      <td>2</td>\n",
       "      <td>15</td>\n",
       "    </tr>\n",
       "    <tr>\n",
       "      <th>3</th>\n",
       "      <td>0</td>\n",
       "      <td>0</td>\n",
       "      <td>1015.0</td>\n",
       "      <td>21.703125</td>\n",
       "      <td>11.796875</td>\n",
       "      <td>0.0</td>\n",
       "      <td>53.90625</td>\n",
       "      <td>0</td>\n",
       "      <td>1</td>\n",
       "      <td>2</td>\n",
       "      <td>13</td>\n",
       "    </tr>\n",
       "    <tr>\n",
       "      <th>4</th>\n",
       "      <td>0</td>\n",
       "      <td>0</td>\n",
       "      <td>1015.0</td>\n",
       "      <td>21.703125</td>\n",
       "      <td>11.796875</td>\n",
       "      <td>0.0</td>\n",
       "      <td>53.90625</td>\n",
       "      <td>0</td>\n",
       "      <td>1</td>\n",
       "      <td>2</td>\n",
       "      <td>14</td>\n",
       "    </tr>\n",
       "  </tbody>\n",
       "</table>\n",
       "</div>"
      ],
      "text/plain": [
       "   zipcode  cate     hPa   Temper_C       Wind  Rain_mm  rate_sun  zipcode_3D  \\\n",
       "0        0    11  1015.0  21.703125  11.796875      0.0  53.90625           0   \n",
       "1        0    11  1015.0  21.703125  11.796875      0.0  53.90625           0   \n",
       "2        0     0  1015.0  21.703125  11.796875      0.0  53.90625           0   \n",
       "3        0     0  1015.0  21.703125  11.796875      0.0  53.90625           0   \n",
       "4        0     0  1015.0  21.703125  11.796875      0.0  53.90625           0   \n",
       "\n",
       "   month  weekday  hour  \n",
       "0      1        2    16  \n",
       "1      1        2    10  \n",
       "2      1        2    15  \n",
       "3      1        2    13  \n",
       "4      1        2    14  "
      ]
     },
     "execution_count": 147,
     "metadata": {},
     "output_type": "execute_result"
    }
   ],
   "source": [
    "X_train.head()"
   ]
  },
  {
   "cell_type": "code",
   "execution_count": 148,
   "metadata": {},
   "outputs": [],
   "source": [
    "# random sample\n",
    "random_sample = random.sample(list(Y_train[Y_train == 1].index), k=len(Y_train[Y_train == 0]))\n",
    "random_sample = random_sample + list(Y_train[Y_train == 0].index)\n",
    "X_train = X_train.loc[random_sample]\n",
    "Y_train = Y_train.loc[random_sample]"
   ]
  },
  {
   "cell_type": "code",
   "execution_count": 149,
   "metadata": {},
   "outputs": [
    {
     "data": {
      "text/html": [
       "<div>\n",
       "<style scoped>\n",
       "    .dataframe tbody tr th:only-of-type {\n",
       "        vertical-align: middle;\n",
       "    }\n",
       "\n",
       "    .dataframe tbody tr th {\n",
       "        vertical-align: top;\n",
       "    }\n",
       "\n",
       "    .dataframe thead th {\n",
       "        text-align: right;\n",
       "    }\n",
       "</style>\n",
       "<table border=\"1\" class=\"dataframe\">\n",
       "  <thead>\n",
       "    <tr style=\"text-align: right;\">\n",
       "      <th></th>\n",
       "      <th>zipcode</th>\n",
       "      <th>cate</th>\n",
       "      <th>hPa</th>\n",
       "      <th>Temper_C</th>\n",
       "      <th>Wind</th>\n",
       "      <th>Rain_mm</th>\n",
       "      <th>rate_sun</th>\n",
       "      <th>zipcode_3D</th>\n",
       "      <th>month</th>\n",
       "      <th>weekday</th>\n",
       "      <th>hour</th>\n",
       "    </tr>\n",
       "  </thead>\n",
       "  <tbody>\n",
       "    <tr>\n",
       "      <th>8226881</th>\n",
       "      <td>6302</td>\n",
       "      <td>8</td>\n",
       "      <td>1009.5</td>\n",
       "      <td>17.296875</td>\n",
       "      <td>9.500000</td>\n",
       "      <td>2.0</td>\n",
       "      <td>0.0000</td>\n",
       "      <td>111</td>\n",
       "      <td>1</td>\n",
       "      <td>4</td>\n",
       "      <td>13</td>\n",
       "    </tr>\n",
       "    <tr>\n",
       "      <th>6033249</th>\n",
       "      <td>3040</td>\n",
       "      <td>8</td>\n",
       "      <td>1009.5</td>\n",
       "      <td>16.796875</td>\n",
       "      <td>10.601562</td>\n",
       "      <td>0.0</td>\n",
       "      <td>0.0000</td>\n",
       "      <td>44</td>\n",
       "      <td>2</td>\n",
       "      <td>2</td>\n",
       "      <td>14</td>\n",
       "    </tr>\n",
       "    <tr>\n",
       "      <th>5417068</th>\n",
       "      <td>2556</td>\n",
       "      <td>1</td>\n",
       "      <td>1014.5</td>\n",
       "      <td>18.703125</td>\n",
       "      <td>6.000000</td>\n",
       "      <td>0.0</td>\n",
       "      <td>65.6875</td>\n",
       "      <td>38</td>\n",
       "      <td>1</td>\n",
       "      <td>1</td>\n",
       "      <td>17</td>\n",
       "    </tr>\n",
       "    <tr>\n",
       "      <th>5515156</th>\n",
       "      <td>2693</td>\n",
       "      <td>0</td>\n",
       "      <td>895.0</td>\n",
       "      <td>5.699219</td>\n",
       "      <td>18.203125</td>\n",
       "      <td>17.0</td>\n",
       "      <td>0.0000</td>\n",
       "      <td>40</td>\n",
       "      <td>1</td>\n",
       "      <td>1</td>\n",
       "      <td>12</td>\n",
       "    </tr>\n",
       "    <tr>\n",
       "      <th>13595636</th>\n",
       "      <td>15751</td>\n",
       "      <td>0</td>\n",
       "      <td>1013.5</td>\n",
       "      <td>17.093750</td>\n",
       "      <td>5.898438</td>\n",
       "      <td>0.0</td>\n",
       "      <td>79.3125</td>\n",
       "      <td>311</td>\n",
       "      <td>2</td>\n",
       "      <td>2</td>\n",
       "      <td>12</td>\n",
       "    </tr>\n",
       "  </tbody>\n",
       "</table>\n",
       "</div>"
      ],
      "text/plain": [
       "          zipcode  cate     hPa   Temper_C       Wind  Rain_mm  rate_sun  \\\n",
       "8226881      6302     8  1009.5  17.296875   9.500000      2.0    0.0000   \n",
       "6033249      3040     8  1009.5  16.796875  10.601562      0.0    0.0000   \n",
       "5417068      2556     1  1014.5  18.703125   6.000000      0.0   65.6875   \n",
       "5515156      2693     0   895.0   5.699219  18.203125     17.0    0.0000   \n",
       "13595636    15751     0  1013.5  17.093750   5.898438      0.0   79.3125   \n",
       "\n",
       "          zipcode_3D  month  weekday  hour  \n",
       "8226881          111      1        4    13  \n",
       "6033249           44      2        2    14  \n",
       "5417068           38      1        1    17  \n",
       "5515156           40      1        1    12  \n",
       "13595636         311      2        2    12  "
      ]
     },
     "execution_count": 149,
     "metadata": {},
     "output_type": "execute_result"
    }
   ],
   "source": [
    "X_train.loc[random_sample].head()"
   ]
  },
  {
   "cell_type": "code",
   "execution_count": 150,
   "metadata": {},
   "outputs": [
    {
     "name": "stderr",
     "output_type": "stream",
     "text": [
      "C:\\Users\\USER\\Anaconda3\\lib\\site-packages\\sklearn\\preprocessing\\data.py:645: DataConversionWarning: Data with input dtype int8, float16, int16 were all converted to float64 by StandardScaler.\n",
      "  return self.partial_fit(X, y)\n",
      "C:\\Users\\USER\\Anaconda3\\lib\\site-packages\\sklearn\\base.py:464: DataConversionWarning: Data with input dtype int8, float16, int16 were all converted to float64 by StandardScaler.\n",
      "  return self.fit(X, **fit_params).transform(X)\n",
      "C:\\Users\\USER\\Anaconda3\\lib\\site-packages\\ipykernel_launcher.py:4: DataConversionWarning: Data with input dtype int8, float16, int16 were all converted to float64 by StandardScaler.\n",
      "  after removing the cwd from sys.path.\n"
     ]
    }
   ],
   "source": [
    "from sklearn.preprocessing import StandardScaler\n",
    "sc = StandardScaler()\n",
    "X_train = sc.fit_transform(X_train)\n",
    "X_test = sc.transform(X_test)\n",
    "\n",
    "# split valid set from test set\n",
    "length_valid = int(len(X_test)*0.3)\n",
    "X_valid = X_test[:length_valid]\n",
    "Y_valid = Y_test[:length_valid]\n",
    "X_test = X_test[length_valid:]\n",
    "Y_test = Y_test[length_valid:]"
   ]
  },
  {
   "cell_type": "code",
   "execution_count": 151,
   "metadata": {},
   "outputs": [
    {
     "data": {
      "text/plain": [
       "734"
      ]
     },
     "execution_count": 151,
     "metadata": {},
     "output_type": "execute_result"
    }
   ],
   "source": [
    "del df_final\n",
    "gc.collect()"
   ]
  },
  {
   "cell_type": "code",
   "execution_count": 115,
   "metadata": {},
   "outputs": [
    {
     "name": "stdout",
     "output_type": "stream",
     "text": [
      "Training until validation scores don't improve for 20 rounds.\n",
      "[20]\ttraining's rmse: 0.496559\tvalid_1's rmse: 0.496175\n",
      "[40]\ttraining's rmse: 0.492884\tvalid_1's rmse: 0.492461\n",
      "[60]\ttraining's rmse: 0.490203\tvalid_1's rmse: 0.489382\n",
      "[80]\ttraining's rmse: 0.487656\tvalid_1's rmse: 0.486729\n",
      "[100]\ttraining's rmse: 0.485532\tvalid_1's rmse: 0.484559\n",
      "[120]\ttraining's rmse: 0.483278\tvalid_1's rmse: 0.482421\n",
      "[140]\ttraining's rmse: 0.481832\tvalid_1's rmse: 0.480927\n",
      "[160]\ttraining's rmse: 0.480329\tvalid_1's rmse: 0.479395\n",
      "[180]\ttraining's rmse: 0.478738\tvalid_1's rmse: 0.477915\n",
      "[200]\ttraining's rmse: 0.477557\tvalid_1's rmse: 0.476778\n",
      "[220]\ttraining's rmse: 0.476439\tvalid_1's rmse: 0.47594\n",
      "[240]\ttraining's rmse: 0.47529\tvalid_1's rmse: 0.475074\n",
      "[260]\ttraining's rmse: 0.474331\tvalid_1's rmse: 0.474085\n",
      "[280]\ttraining's rmse: 0.473464\tvalid_1's rmse: 0.473456\n",
      "[300]\ttraining's rmse: 0.472832\tvalid_1's rmse: 0.472662\n",
      "[320]\ttraining's rmse: 0.472185\tvalid_1's rmse: 0.472042\n",
      "[340]\ttraining's rmse: 0.471614\tvalid_1's rmse: 0.471435\n",
      "[360]\ttraining's rmse: 0.471099\tvalid_1's rmse: 0.470941\n",
      "[380]\ttraining's rmse: 0.470684\tvalid_1's rmse: 0.470418\n",
      "[400]\ttraining's rmse: 0.470273\tvalid_1's rmse: 0.470024\n",
      "[420]\ttraining's rmse: 0.469954\tvalid_1's rmse: 0.469629\n",
      "[440]\ttraining's rmse: 0.469637\tvalid_1's rmse: 0.469292\n",
      "[460]\ttraining's rmse: 0.469367\tvalid_1's rmse: 0.468747\n",
      "[480]\ttraining's rmse: 0.469113\tvalid_1's rmse: 0.468518\n",
      "[500]\ttraining's rmse: 0.468892\tvalid_1's rmse: 0.468062\n",
      "[520]\ttraining's rmse: 0.468692\tvalid_1's rmse: 0.467856\n",
      "[540]\ttraining's rmse: 0.468498\tvalid_1's rmse: 0.467734\n",
      "[560]\ttraining's rmse: 0.468324\tvalid_1's rmse: 0.467475\n",
      "[580]\ttraining's rmse: 0.468163\tvalid_1's rmse: 0.467285\n",
      "[600]\ttraining's rmse: 0.468015\tvalid_1's rmse: 0.467069\n",
      "[620]\ttraining's rmse: 0.467878\tvalid_1's rmse: 0.466944\n",
      "[640]\ttraining's rmse: 0.467749\tvalid_1's rmse: 0.466709\n",
      "[660]\ttraining's rmse: 0.467626\tvalid_1's rmse: 0.466578\n",
      "[680]\ttraining's rmse: 0.467516\tvalid_1's rmse: 0.466431\n",
      "[700]\ttraining's rmse: 0.467408\tvalid_1's rmse: 0.466291\n",
      "[720]\ttraining's rmse: 0.467302\tvalid_1's rmse: 0.466203\n",
      "[740]\ttraining's rmse: 0.467206\tvalid_1's rmse: 0.46623\n",
      "Early stopping, best iteration is:\n",
      "[723]\ttraining's rmse: 0.467291\tvalid_1's rmse: 0.466181\n"
     ]
    }
   ],
   "source": [
    "train_data=lgb.Dataset(X_train,label=Y_train)\n",
    "valid_data=lgb.Dataset(X_valid,label=Y_valid)\n",
    "\n",
    "params = {'boosting_type': 'gbdt',\n",
    "          'max_depth' : -1,\n",
    "          'objective': 'regression',\n",
    "          'nthread': 5,\n",
    "          'num_leaves': 32,\n",
    "          'learning_rate': 0.005,\n",
    "          'subsample': 0.8,\n",
    "          'subsample_freq': 1,\n",
    "          'colsample_bytree': 0.8,\n",
    "          'min_split_gain': 0.5,\n",
    "          'min_child_weight': 1,\n",
    "          'min_child_samples': 1,\n",
    "          'metric' : 'rmse'\n",
    "          }\n",
    "\n",
    "model = lgb.train(params,\n",
    "                 train_data,\n",
    "                 25000,\n",
    "                 valid_sets=[train_data, valid_data],\n",
    "                 early_stopping_rounds= 20,\n",
    "                 verbose_eval= 20\n",
    "                 )"
   ]
  },
  {
   "cell_type": "code",
   "execution_count": 116,
   "metadata": {},
   "outputs": [
    {
     "data": {
      "text/plain": [
       "array([[ 388786,  167831],\n",
       "       [1361904, 1996099]], dtype=int64)"
      ]
     },
     "execution_count": 116,
     "metadata": {},
     "output_type": "execute_result"
    }
   ],
   "source": [
    "Y_pred = (model.predict(X_test) > 0.5).astype('int8')\n",
    "# Y_pred\n",
    "confusion_matrix(Y_test, Y_pred)"
   ]
  },
  {
   "cell_type": "code",
   "execution_count": 117,
   "metadata": {},
   "outputs": [
    {
     "data": {
      "text/plain": [
       "0.6092251610628874"
      ]
     },
     "execution_count": 117,
     "metadata": {},
     "output_type": "execute_result"
    }
   ],
   "source": [
    "accuracy_score(Y_test, Y_pred)"
   ]
  },
  {
   "cell_type": "code",
   "execution_count": 89,
   "metadata": {},
   "outputs": [
    {
     "name": "stdout",
     "output_type": "stream",
     "text": [
      "Y_train: (1206054,):(1206054,)\n",
      "Y_test: (3358003,):(556617,)\n",
      "Y_train Fail Rate: 0.5\n",
      "Y_test Fail Rate: 0.1421892801855608\n"
     ]
    }
   ],
   "source": [
    "print(\"Y_train: {}:{}\".format(Y_train[Y_train == 1].shape, Y_train[Y_train == 0].shape))\n",
    "print(\"Y_test: {}:{}\".format(Y_test[Y_test == 1].shape, Y_test[Y_test == 0].shape))\n",
    "print(\"Y_train Fail Rate: {}\".format(Y_train[Y_train == 0].shape[0]/Y_train.shape[0]))\n",
    "print(\"Y_test Fail Rate: {}\".format(Y_test[Y_test == 0].shape[0]/Y_test.shape[0]))"
   ]
  },
  {
   "cell_type": "code",
   "execution_count": 118,
   "metadata": {},
   "outputs": [
    {
     "data": {
      "text/plain": [
       "<matplotlib.axes._subplots.AxesSubplot at 0x23eb5f99fd0>"
      ]
     },
     "execution_count": 118,
     "metadata": {},
     "output_type": "execute_result"
    },
    {
     "data": {
      "image/png": "[encoded data removed]",
      "text/plain": [
       "<Figure size 504x504 with 1 Axes>"
      ]
     },
     "metadata": {
      "needs_background": "light"
     },
     "output_type": "display_data"
    }
   ],
   "source": [
    "lgb.plot_importance(model, height=0.5, ignore_zero = False, figsize = (7, 7), importance_type ='gain')"
   ]
  },
  {
   "cell_type": "markdown",
   "metadata": {},
   "source": [
    "# Futher Analysis"
   ]
  },
  {
   "cell_type": "markdown",
   "metadata": {},
   "source": [
    "### Hour"
   ]
  },
  {
   "cell_type": "code",
   "execution_count": 126,
   "metadata": {},
   "outputs": [
    {
     "data": {
      "text/plain": [
       "<matplotlib.axes._subplots.AxesSubplot at 0x23dac426c18>"
      ]
     },
     "execution_count": 126,
     "metadata": {},
     "output_type": "execute_result"
    },
    {
     "data": {
      "image/png": "[encoded data removed]",
      "text/plain": [
       "<Figure size 432x288 with 1 Axes>"
      ]
     },
     "metadata": {
      "needs_background": "light"
     },
     "output_type": "display_data"
    }
   ],
   "source": [
    "hour_success = df_final[df_final['statusNum'] == 1].groupby('hour').agg({'statusNum': ['count']})\n",
    "hour_success.plot(kind='bar')"
   ]
  },
  {
   "cell_type": "code",
   "execution_count": 128,
   "metadata": {},
   "outputs": [
    {
     "data": {
      "text/plain": [
       "<matplotlib.axes._subplots.AxesSubplot at 0x23dab7b8f28>"
      ]
     },
     "execution_count": 128,
     "metadata": {},
     "output_type": "execute_result"
    },
    {
     "data": {
      "image/png": "[encoded data removed]",
      "text/plain": [
       "<Figure size 432x288 with 1 Axes>"
      ]
     },
     "metadata": {
      "needs_background": "light"
     },
     "output_type": "display_data"
    }
   ],
   "source": [
    "hour_fail = df_final[df_final['statusNum'] == 0].groupby('hour').agg({'statusNum': ['count']})\n",
    "hour_fail.plot(kind='bar')"
   ]
  },
  {
   "cell_type": "code",
   "execution_count": 138,
   "metadata": {},
   "outputs": [
    {
     "data": {
      "text/plain": [
       "<matplotlib.axes._subplots.AxesSubplot at 0x23dc1ac5be0>"
      ]
     },
     "execution_count": 138,
     "metadata": {},
     "output_type": "execute_result"
    },
    {
     "data": {
      "image/png": "[encoded data removed]",
      "text/plain": [
       "<Figure size 432x288 with 1 Axes>"
      ]
     },
     "metadata": {
      "needs_background": "light"
     },
     "output_type": "display_data"
    }
   ],
   "source": [
    "hour_fail_rate = hour_fail/(hour_fail+hour_success)\n",
    "hour_fail_rate.plot(kind='bar')"
   ]
  },
  {
   "cell_type": "markdown",
   "metadata": {},
   "source": [
    "According to the fail rate plot (by hour), we suggest delivering more mails in the **morning(8~9)** and **afternoon(3~7)**."
   ]
  },
  {
   "cell_type": "markdown",
   "metadata": {},
   "source": [
    "### Weekday"
   ]
  },
  {
   "cell_type": "code",
   "execution_count": 139,
   "metadata": {},
   "outputs": [
    {
     "data": {
      "text/plain": [
       "<matplotlib.axes._subplots.AxesSubplot at 0x23dc21bbf28>"
      ]
     },
     "execution_count": 139,
     "metadata": {},
     "output_type": "execute_result"
    },
    {
     "data": {
      "image/png": "[encoded data removed]",
      "text/plain": [
       "<Figure size 432x288 with 1 Axes>"
      ]
     },
     "metadata": {
      "needs_background": "light"
     },
     "output_type": "display_data"
    }
   ],
   "source": [
    "week_success = df_final[df_final['statusNum'] == 1].groupby('weekday').agg({'statusNum': ['count']})\n",
    "week_success.plot(kind='bar')"
   ]
  },
  {
   "cell_type": "code",
   "execution_count": 140,
   "metadata": {},
   "outputs": [
    {
     "data": {
      "text/plain": [
       "<matplotlib.axes._subplots.AxesSubplot at 0x23dc221de80>"
      ]
     },
     "execution_count": 140,
     "metadata": {},
     "output_type": "execute_result"
    },
    {
     "data": {
      "image/png": "[encoded data removed]",
      "text/plain": [
       "<Figure size 432x288 with 1 Axes>"
      ]
     },
     "metadata": {
      "needs_background": "light"
     },
     "output_type": "display_data"
    }
   ],
   "source": [
    "week_fail = df_final[df_final['statusNum'] == 0].groupby('weekday').agg({'statusNum': ['count']})\n",
    "week_fail.plot(kind='bar')"
   ]
  },
  {
   "cell_type": "code",
   "execution_count": 142,
   "metadata": {},
   "outputs": [
    {
     "data": {
      "text/plain": [
       "<matplotlib.axes._subplots.AxesSubplot at 0x23dab7f1a20>"
      ]
     },
     "execution_count": 142,
     "metadata": {},
     "output_type": "execute_result"
    },
    {
     "data": {
      "image/png": "[encoded data removed]",
      "text/plain": [
       "<Figure size 432x288 with 1 Axes>"
      ]
     },
     "metadata": {
      "needs_background": "light"
     },
     "output_type": "display_data"
    }
   ],
   "source": [
    "week_fail_rate = week_fail/(week_fail+week_success)\n",
    "week_fail_rate.plot(kind='bar')"
   ]
  },
  {
   "cell_type": "markdown",
   "metadata": {},
   "source": [
    "According to the fail rate plot (by weekday), we suggest avoiding delivering mails on Sunday."
   ]
  },
  {
   "cell_type": "code",
   "execution_count": null,
   "metadata": {},
   "outputs": [],
   "source": []
  }
 ],
 "metadata": {
  "kernelspec": {
   "display_name": "Python 3",
   "language": "python",
   "name": "python3"
  },
  "language_info": {
   "codemirror_mode": {
    "name": "ipython",
    "version": 3
   },
   "file_extension": ".py",
   "mimetype": "text/x-python",
   "name": "python",
   "nbconvert_exporter": "python",
   "pygments_lexer": "ipython3",
   "version": "3.6.8"
  }
 },
 "nbformat": 4,
 "nbformat_minor": 2
}
