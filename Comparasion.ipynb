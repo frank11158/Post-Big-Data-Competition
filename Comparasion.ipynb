{
 "cells": [
  {
   "cell_type": "markdown",
   "metadata": {},
   "source": [
    "# Data Comparasion: Mail Number Between ACC & TT"
   ]
  },
  {
   "cell_type": "code",
   "execution_count": 1,
   "metadata": {},
   "outputs": [],
   "source": [
    "import numpy as np\n",
    "import pandas as pd\n",
    "import matplotlib.pyplot as plt\n",
    "from multiprocessing import Pool\n",
    "import gc"
   ]
  },
  {
   "cell_type": "markdown",
   "metadata": {},
   "source": [
    "# ACC\n",
    "這個部分主要是提取ACC中的掛號號碼起訖號(ACC35, ACC36)，並將兩者合併成一個ACC的mail list(裡頭包含ACC所有的掛號信件號碼)。"
   ]
  },
  {
   "cell_type": "code",
   "execution_count": 2,
   "metadata": {},
   "outputs": [],
   "source": [
    "column_names = ['ACC01', 'ACC02', 'ACC03', 'ACC04', 'ACC05', 'ACC06', 'ACC07', 'ACC10', \n",
    "               'ACC11', 'ACC12', 'ACC13', 'ACC14', 'ACC15', 'ACC16', 'ACC17', 'ACC18', 'ACC19', 'ACC20', \n",
    "               'ACC21', 'ACC22', 'ACC23', 'ACC24', 'ACC25', 'ACC26', 'ACC27', 'ACC28', 'ACC29', 'ACC30', \n",
    "               'ACC31', 'ACC32', 'ACC33', 'ACC34', 'ACC35', 'ACC36', 'ACC37', 'ACC38', 'ACC39', 'ACC40', ]\n",
    "df_acc_chunk = pd.read_csv(\"ACC.csv\", header = None, names = column_names, chunksize = 1000000)"
   ]
  },
  {
   "cell_type": "code",
   "execution_count": 3,
   "metadata": {},
   "outputs": [
    {
     "name": "stderr",
     "output_type": "stream",
     "text": [
      "C:\\Users\\USER\\Anaconda3\\lib\\site-packages\\IPython\\core\\interactiveshell.py:3049: DtypeWarning: Columns (12) have mixed types. Specify dtype option on import or set low_memory=False.\n",
      "  interactivity=interactivity, compiler=compiler, result=result)\n",
      "C:\\Users\\USER\\Anaconda3\\lib\\site-packages\\IPython\\core\\interactiveshell.py:3049: DtypeWarning: Columns (12,27) have mixed types. Specify dtype option on import or set low_memory=False.\n",
      "  interactivity=interactivity, compiler=compiler, result=result)\n"
     ]
    },
    {
     "data": {
      "text/plain": [
       "84"
      ]
     },
     "execution_count": 3,
     "metadata": {},
     "output_type": "execute_result"
    }
   ],
   "source": [
    "acc_mails_list = []\n",
    "\n",
    "for chunk in df_acc_chunk:\n",
    "#     acc_mails = ACC_chunk_preprocessing(chunk)\n",
    "    acc_mails = chunk.loc[:, ['ACC35', 'ACC36']]\n",
    "    acc_mails_list.append(acc_mails)\n",
    "    \n",
    "acc_mails_list = pd.concat(acc_mails_list)\n",
    "gc.collect()"
   ]
  },
  {
   "cell_type": "code",
   "execution_count": 4,
   "metadata": {},
   "outputs": [
    {
     "data": {
      "text/plain": [
       "7"
      ]
     },
     "execution_count": 4,
     "metadata": {},
     "output_type": "execute_result"
    }
   ],
   "source": [
    "acc_mails_list = acc_mails_list['ACC35'].append(acc_mails_list['ACC36'])\n",
    "acc_mails_list = pd.concat(acc_mails_list)\n",
    "acc_mails_list = acc_mails_list.unique()\n",
    "gc.collect()"
   ]
  },
  {
   "cell_type": "code",
   "execution_count": 5,
   "metadata": {},
   "outputs": [
    {
     "data": {
      "text/plain": [
       "29172925"
      ]
     },
     "execution_count": 5,
     "metadata": {},
     "output_type": "execute_result"
    }
   ],
   "source": [
    "len(acc_mails_list)"
   ]
  },
  {
   "cell_type": "markdown",
   "metadata": {},
   "source": [
    "# TT\n",
    "此部分為提取TT中的信件掛號號碼，並進行一些處理，方便後續對ACC的掛號號碼進行比對。"
   ]
  },
  {
   "cell_type": "code",
   "execution_count": 6,
   "metadata": {},
   "outputs": [],
   "source": [
    "colName = ['statusNum', 'mailNum', 'date', 'time', 'PostOfficeNum', 'others']\n",
    "df_tt_chunk = pd.read_csv('TTS1.csv', header = None, names = colName, chunksize=10000000)"
   ]
  },
  {
   "cell_type": "code",
   "execution_count": 7,
   "metadata": {},
   "outputs": [
    {
     "name": "stderr",
     "output_type": "stream",
     "text": [
      "C:\\Users\\USER\\Anaconda3\\lib\\site-packages\\IPython\\core\\interactiveshell.py:3049: DtypeWarning: Columns (1) have mixed types. Specify dtype option on import or set low_memory=False.\n",
      "  interactivity=interactivity, compiler=compiler, result=result)\n"
     ]
    },
    {
     "data": {
      "text/html": [
       "<div>\n",
       "<style scoped>\n",
       "    .dataframe tbody tr th:only-of-type {\n",
       "        vertical-align: middle;\n",
       "    }\n",
       "\n",
       "    .dataframe tbody tr th {\n",
       "        vertical-align: top;\n",
       "    }\n",
       "\n",
       "    .dataframe thead th {\n",
       "        text-align: right;\n",
       "    }\n",
       "</style>\n",
       "<table border=\"1\" class=\"dataframe\">\n",
       "  <thead>\n",
       "    <tr style=\"text-align: right;\">\n",
       "      <th></th>\n",
       "      <th>statusNum</th>\n",
       "      <th>mailNum</th>\n",
       "      <th>date</th>\n",
       "      <th>time</th>\n",
       "      <th>PostOfficeNum</th>\n",
       "      <th>others</th>\n",
       "    </tr>\n",
       "  </thead>\n",
       "  <tbody>\n",
       "    <tr>\n",
       "      <th>0</th>\n",
       "      <td>Y4</td>\n",
       "      <td>00000000000000</td>\n",
       "      <td>2018-01-01</td>\n",
       "      <td>09:49:04</td>\n",
       "      <td>330031</td>\n",
       "      <td>003</td>\n",
       "    </tr>\n",
       "    <tr>\n",
       "      <th>1</th>\n",
       "      <td>Y4</td>\n",
       "      <td>00000000000000</td>\n",
       "      <td>2018-01-01</td>\n",
       "      <td>09:58:08</td>\n",
       "      <td>330031</td>\n",
       "      <td>002</td>\n",
       "    </tr>\n",
       "    <tr>\n",
       "      <th>2</th>\n",
       "      <td>I4</td>\n",
       "      <td>00000000000000</td>\n",
       "      <td>2018-01-01</td>\n",
       "      <td>14:11:51</td>\n",
       "      <td>330031</td>\n",
       "      <td></td>\n",
       "    </tr>\n",
       "    <tr>\n",
       "      <th>3</th>\n",
       "      <td>Y4</td>\n",
       "      <td>00000000000000</td>\n",
       "      <td>2018-01-01</td>\n",
       "      <td>14:23:32</td>\n",
       "      <td>330031</td>\n",
       "      <td>006</td>\n",
       "    </tr>\n",
       "    <tr>\n",
       "      <th>4</th>\n",
       "      <td>I4</td>\n",
       "      <td>00000000000000</td>\n",
       "      <td>2018-01-01</td>\n",
       "      <td>14:52:09</td>\n",
       "      <td>330031</td>\n",
       "      <td></td>\n",
       "    </tr>\n",
       "  </tbody>\n",
       "</table>\n",
       "</div>"
      ],
      "text/plain": [
       "  statusNum               mailNum        date      time  PostOfficeNum  \\\n",
       "0        Y4  00000000000000        2018-01-01  09:49:04         330031   \n",
       "1        Y4  00000000000000        2018-01-01  09:58:08         330031   \n",
       "2        I4  00000000000000        2018-01-01  14:11:51         330031   \n",
       "3        Y4  00000000000000        2018-01-01  14:23:32         330031   \n",
       "4        I4  00000000000000        2018-01-01  14:52:09         330031   \n",
       "\n",
       "                                       others  \n",
       "0        003                                   \n",
       "1        002                                   \n",
       "2                                              \n",
       "3        006                                   \n",
       "4                                              "
      ]
     },
     "execution_count": 7,
     "metadata": {},
     "output_type": "execute_result"
    }
   ],
   "source": [
    "chunk_list = []\n",
    "\n",
    "for chunk in df_tt_chunk:\n",
    "    data = chunk\n",
    "    break\n",
    "data.head()"
   ]
  },
  {
   "cell_type": "code",
   "execution_count": 8,
   "metadata": {},
   "outputs": [],
   "source": [
    "# data.dtypes"
   ]
  },
  {
   "cell_type": "code",
   "execution_count": 9,
   "metadata": {},
   "outputs": [],
   "source": [
    "# data['mailNum'] = data['mailNum'].astype('str')"
   ]
  },
  {
   "cell_type": "code",
   "execution_count": 10,
   "metadata": {},
   "outputs": [],
   "source": [
    "# mails = data.groupby('mailNum').agg(['count']).index.tolist()\n",
    "# mails"
   ]
  },
  {
   "cell_type": "code",
   "execution_count": 11,
   "metadata": {
    "scrolled": false
   },
   "outputs": [],
   "source": [
    "# for i in range(0, len(mails)):\n",
    "#     mails[i] = mails[i].replace(\" \", \"\")\n",
    "# #     print(item)\n",
    "    \n",
    "# mails[0:10]"
   ]
  },
  {
   "cell_type": "code",
   "execution_count": 12,
   "metadata": {},
   "outputs": [],
   "source": [
    "def TT_chunk_preprocessing(chunk):    \n",
    "    chunk['mailNum'] = chunk['mailNum'].astype('str')\n",
    "    mails = chunk.groupby('mailNum').agg(['count']).index.tolist()\n",
    "    gc.collect()\n",
    "    return mails"
   ]
  },
  {
   "cell_type": "code",
   "execution_count": 13,
   "metadata": {},
   "outputs": [
    {
     "name": "stderr",
     "output_type": "stream",
     "text": [
      "C:\\Users\\USER\\Anaconda3\\lib\\site-packages\\IPython\\core\\interactiveshell.py:3049: DtypeWarning: Columns (1,5) have mixed types. Specify dtype option on import or set low_memory=False.\n",
      "  interactivity=interactivity, compiler=compiler, result=result)\n"
     ]
    },
    {
     "data": {
      "text/plain": [
       "0"
      ]
     },
     "execution_count": 13,
     "metadata": {},
     "output_type": "execute_result"
    }
   ],
   "source": [
    "tt_mails_list = []\n",
    "\n",
    "for chunk in df_tt_chunk:\n",
    "    mails = TT_chunk_preprocessing(chunk)\n",
    "    tt_mails_list = tt_mails_list + mails\n",
    "    \n",
    "tt_mails_list = list(set(tt_mails_list))\n",
    "for i in range(0, len(tt_mails_list)):\n",
    "    tt_mails_list[i] = tt_mails_list[i].replace(\" \", \"\")\n",
    "gc.collect()"
   ]
  },
  {
   "cell_type": "code",
   "execution_count": 14,
   "metadata": {},
   "outputs": [
    {
     "data": {
      "text/plain": [
       "87292842"
      ]
     },
     "execution_count": 14,
     "metadata": {},
     "output_type": "execute_result"
    }
   ],
   "source": [
    "len(tt_mails_list)"
   ]
  },
  {
   "cell_type": "code",
   "execution_count": 15,
   "metadata": {},
   "outputs": [
    {
     "data": {
      "text/plain": [
       "['01427790201516',\n",
       " '12243240507216',\n",
       " '23249810602718',\n",
       " '94177540005510407098',\n",
       " '55639310045130710005',\n",
       " '52878010045117',\n",
       " '91371310011210100005',\n",
       " '91719810006700104002',\n",
       " '05697780202417',\n",
       " '01103940506716']"
      ]
     },
     "execution_count": 15,
     "metadata": {},
     "output_type": "execute_result"
    }
   ],
   "source": [
    "tt_mails_list[:10]"
   ]
  },
  {
   "cell_type": "markdown",
   "metadata": {},
   "source": [
    "# Compare\n",
    "TT vs. ACC\n",
    "\n",
    "將acc_mails_list和tt_mails_list進行比對，看acc_mails_list中的掛號號碼是否皆存在於tt_mails_list中。"
   ]
  },
  {
   "cell_type": "code",
   "execution_count": 18,
   "metadata": {},
   "outputs": [],
   "source": [
    "# counterpart = acc_mails_list[acc_mails_list.isin(tt_mails_list)]\n",
    "# len(counterpart)"
   ]
  },
  {
   "cell_type": "code",
   "execution_count": 19,
   "metadata": {},
   "outputs": [
    {
     "data": {
      "text/plain": [
       "False"
      ]
     },
     "execution_count": 19,
     "metadata": {},
     "output_type": "execute_result"
    }
   ],
   "source": [
    "result =  all(elem in tt_mails_list for elem in acc_mails_list)\n",
    "result"
   ]
  },
  {
   "cell_type": "markdown",
   "metadata": {},
   "source": [
    "結果發現大部分ACC中的掛號號碼存在tt_mails_list中，而有部分則沒有，除了為空值得資料之外，還需要進一步釐清原因。"
   ]
  },
  {
   "cell_type": "markdown",
   "metadata": {},
   "source": [
    "# TODO"
   ]
  },
  {
   "cell_type": "markdown",
   "metadata": {},
   "source": [
    "現在已經確認ACC和TT中的掛號號碼可以對應起來，下一步有幾件事情可以做：\n",
    "* 可以將兩者資料合併，雖然這樣會比較容易處理資料，但資料量會變大許多，而且也會產生許多新的空值。\n",
    "* 拆解掛號號碼，進一步提取掛號號碼所包含的內容。\n",
    "* 將掛號號碼所提取出的資訊跟其他欄位資料進行比對。"
   ]
  }
 ],
 "metadata": {
  "kernelspec": {
   "display_name": "Python 3",
   "language": "python",
   "name": "python3"
  },
  "language_info": {
   "codemirror_mode": {
    "name": "ipython",
    "version": 3
   },
   "file_extension": ".py",
   "mimetype": "text/x-python",
   "name": "python",
   "nbconvert_exporter": "python",
   "pygments_lexer": "ipython3",
   "version": "3.6.8"
  }
 },
 "nbformat": 4,
 "nbformat_minor": 2
}
