{
 "cells": [
  {
   "cell_type": "code",
   "execution_count": 1,
   "metadata": {},
   "outputs": [],
   "source": [
    "import gc\n",
    "import numpy as np\n",
    "import pandas as pd\n",
    "import matplotlib.pyplot as plt\n",
    "import seaborn as sns\n",
    "from datetime import datetime, timedelta"
   ]
  },
  {
   "cell_type": "code",
   "execution_count": 2,
   "metadata": {},
   "outputs": [],
   "source": [
    "colName = ['statusNum', 'mailNum', 'date', 'time', 'PostOfficeNum', 'others']\n",
    "df_chunk = pd.read_csv('TTS1.csv', header = None, names = colName, chunksize=10000000)"
   ]
  },
  {
   "cell_type": "code",
   "execution_count": 3,
   "metadata": {},
   "outputs": [
    {
     "name": "stderr",
     "output_type": "stream",
     "text": [
      "C:\\Users\\USER\\Anaconda3\\lib\\site-packages\\IPython\\core\\interactiveshell.py:3049: DtypeWarning: Columns (1) have mixed types. Specify dtype option on import or set low_memory=False.\n",
      "  interactivity=interactivity, compiler=compiler, result=result)\n",
      "C:\\Users\\USER\\Anaconda3\\lib\\site-packages\\IPython\\core\\interactiveshell.py:3049: DtypeWarning: Columns (1,5) have mixed types. Specify dtype option on import or set low_memory=False.\n",
      "  interactivity=interactivity, compiler=compiler, result=result)\n"
     ]
    },
    {
     "data": {
      "text/plain": [
       "39"
      ]
     },
     "execution_count": 3,
     "metadata": {},
     "output_type": "execute_result"
    }
   ],
   "source": [
    "chunk_list = []  # append each chunk df here \n",
    "\n",
    "i = 0\n",
    "for chunk in df_chunk:\n",
    "#     chunk_filter = chunk_preprocessing(chunk)\n",
    "#     chunk_list.append(chunk_filter)\n",
    "    \n",
    "# df_concat = pd.concat(chunk_list)\n",
    "# status = df_concat.groupby('statusNum').agg(['count'])\n",
    "# status\n",
    "#     data = chunk\n",
    "    i = i + 1\n",
    "i\n",
    "# data.tail()"
   ]
  },
  {
   "cell_type": "code",
   "execution_count": 5,
   "metadata": {},
   "outputs": [
    {
     "data": {
      "text/html": [
       "<div>\n",
       "<style scoped>\n",
       "    .dataframe tbody tr th:only-of-type {\n",
       "        vertical-align: middle;\n",
       "    }\n",
       "\n",
       "    .dataframe tbody tr th {\n",
       "        vertical-align: top;\n",
       "    }\n",
       "\n",
       "    .dataframe thead th {\n",
       "        text-align: right;\n",
       "    }\n",
       "</style>\n",
       "<table border=\"1\" class=\"dataframe\">\n",
       "  <thead>\n",
       "    <tr style=\"text-align: right;\">\n",
       "      <th></th>\n",
       "      <th>statusNum</th>\n",
       "      <th>mailNum</th>\n",
       "      <th>date</th>\n",
       "      <th>time</th>\n",
       "      <th>PostOfficeNum</th>\n",
       "      <th>others</th>\n",
       "    </tr>\n",
       "  </thead>\n",
       "  <tbody>\n",
       "    <tr>\n",
       "      <th>381043729</th>\n",
       "      <td>I2</td>\n",
       "      <td>00488397051058</td>\n",
       "      <td>2018-03-31</td>\n",
       "      <td>14:55:00</td>\n",
       "      <td>970020</td>\n",
       "      <td></td>\n",
       "    </tr>\n",
       "    <tr>\n",
       "      <th>381043730</th>\n",
       "      <td>Y4</td>\n",
       "      <td>04757199999950</td>\n",
       "      <td>2018-03-31</td>\n",
       "      <td>07:40:26</td>\n",
       "      <td>100564</td>\n",
       "      <td>129</td>\n",
       "    </tr>\n",
       "    <tr>\n",
       "      <th>381043731</th>\n",
       "      <td>I4</td>\n",
       "      <td>04757199999950</td>\n",
       "      <td>2018-03-31</td>\n",
       "      <td>09:22:40</td>\n",
       "      <td>100564</td>\n",
       "      <td></td>\n",
       "    </tr>\n",
       "    <tr>\n",
       "      <th>381043732</th>\n",
       "      <td>Y4</td>\n",
       "      <td>04757299999950</td>\n",
       "      <td>2018-03-31</td>\n",
       "      <td>13:29:38</td>\n",
       "      <td>100564</td>\n",
       "      <td>176</td>\n",
       "    </tr>\n",
       "    <tr>\n",
       "      <th>381043733</th>\n",
       "      <td>I4</td>\n",
       "      <td>04757299999950</td>\n",
       "      <td>2018-03-31</td>\n",
       "      <td>14:01:15</td>\n",
       "      <td>100564</td>\n",
       "      <td></td>\n",
       "    </tr>\n",
       "  </tbody>\n",
       "</table>\n",
       "</div>"
      ],
      "text/plain": [
       "          statusNum               mailNum        date      time  \\\n",
       "381043729        I2  00488397051058        2018-03-31  14:55:00   \n",
       "381043730        Y4  04757199999950        2018-03-31  07:40:26   \n",
       "381043731        I4  04757199999950        2018-03-31  09:22:40   \n",
       "381043732        Y4  04757299999950        2018-03-31  13:29:38   \n",
       "381043733        I4  04757299999950        2018-03-31  14:01:15   \n",
       "\n",
       "           PostOfficeNum                                      others  \n",
       "381043729         970020                                              \n",
       "381043730         100564        129                                   \n",
       "381043731         100564                                              \n",
       "381043732         100564        176                                   \n",
       "381043733         100564                                              "
      ]
     },
     "execution_count": 5,
     "metadata": {},
     "output_type": "execute_result"
    }
   ],
   "source": [
    "chunk.tail()"
   ]
  },
  {
   "cell_type": "code",
   "execution_count": 83,
   "metadata": {},
   "outputs": [],
   "source": [
    "def chunk_preprocessing(chunk):\n",
    "    chunk['datetime'] = chunk.loc[:,'date'] + \" \" + chunk.loc[:,'time']\n",
    "    chunk = chunk.drop(['date', 'time', 'PostOfficeNum', 'others'],axis=1)\n",
    "    \n",
    "    # status\n",
    "    status = chunk.groupby('statusNum').agg(['count'])\n",
    "    \n",
    "    chunk = chunk.drop(['statusNum', 'mailNum'], axis=1)\n",
    "    chunk['datetime'] = pd.to_datetime(chunk['datetime'])\n",
    "    chunk['hour'] = chunk.datetime.dt.hour\n",
    "    chunk['weekday'] = chunk.datetime.dt.weekday\n",
    "    chunk['month'] = chunk.datetime.dt.month\n",
    "    \n",
    "    # count by hour\n",
    "    countByHour = chunk.groupby('hour').agg(['count'])\n",
    "    # count by weekday\n",
    "    countByWeekday = chunk.groupby('weekday').agg(['count'])\n",
    "    # count by month\n",
    "    countByMonth = chunk.groupby('month').agg(['count'])\n",
    "    \n",
    "    gc.collect()\n",
    "    return status, countByHour, countByWeekday, countByMonth"
   ]
  },
  {
   "cell_type": "code",
   "execution_count": 84,
   "metadata": {},
   "outputs": [
    {
     "name": "stderr",
     "output_type": "stream",
     "text": [
      "C:\\Users\\USER\\Anaconda3\\lib\\site-packages\\ipykernel_launcher.py:13: FutureWarning: Sorting because non-concatenation axis is not aligned. A future version\n",
      "of pandas will change to not sort by default.\n",
      "\n",
      "To accept the future behavior, pass 'sort=False'.\n",
      "\n",
      "To retain the current behavior and silence the warning, pass 'sort=True'.\n",
      "\n",
      "  del sys.path[0]\n"
     ]
    },
    {
     "data": {
      "text/plain": [
       "38"
      ]
     },
     "execution_count": 84,
     "metadata": {},
     "output_type": "execute_result"
    }
   ],
   "source": [
    "status_list = []\n",
    "hour_list = []\n",
    "weekday_list = []\n",
    "month_list = []\n",
    "\n",
    "for chunk in df_chunk:\n",
    "    status, countByHour, countByWeekday, countByMonth = chunk_preprocessing(chunk)\n",
    "    status_list.append(status)\n",
    "    hour_list.append(countByHour)\n",
    "    weekday_list.append(countByWeekday)\n",
    "    month_list.append(countByMonth)\n",
    "    \n",
    "status_concat = pd.concat(status_list, axis=1).sum(axis=1)\n",
    "hour_concat = pd.concat(hour_list, axis=1).sum(axis=1)\n",
    "weekday_concat = pd.concat(weekday_list, axis=1).sum(axis=1)\n",
    "month_concat = pd.concat(month_list, axis=1).sum(axis=1)\n",
    "\n",
    "gc.collect()"
   ]
  },
  {
   "cell_type": "code",
   "execution_count": 66,
   "metadata": {},
   "outputs": [
    {
     "data": {
      "image/png": "[encoded data removed]",
      "text/plain": [
       "<Figure size 936x504 with 1 Axes>"
      ]
     },
     "metadata": {
      "needs_background": "light"
     },
     "output_type": "display_data"
    }
   ],
   "source": [
    "bar = status_concat.plot(kind='bar', figsize=(13, 7))\n",
    "bar.set_xlabel(\"Status\")\n",
    "bar.set_ylabel(\"Count\")\n",
    "plt.show()"
   ]
  },
  {
   "cell_type": "code",
   "execution_count": 86,
   "metadata": {},
   "outputs": [
    {
     "data": {
      "image/png": "[encoded data removed]",
      "text/plain": [
       "<Figure size 720x432 with 1 Axes>"
      ]
     },
     "metadata": {
      "needs_background": "light"
     },
     "output_type": "display_data"
    }
   ],
   "source": [
    "bar = month_concat.plot(kind='bar', figsize=(10, 6))\n",
    "bar.set_xlabel(\"Time (month)\")\n",
    "bar.set_ylabel(\"Count\")\n",
    "plt.show()"
   ]
  },
  {
   "cell_type": "code",
   "execution_count": 85,
   "metadata": {},
   "outputs": [
    {
     "data": {
      "image/png": "[encoded data removed]",
      "text/plain": [
       "<Figure size 720x432 with 1 Axes>"
      ]
     },
     "metadata": {
      "needs_background": "light"
     },
     "output_type": "display_data"
    }
   ],
   "source": [
    "bar = weekday_concat.plot(kind='bar', figsize=(10, 6))\n",
    "bar.set_xlabel(\"Time (weekday)\")\n",
    "bar.set_ylabel(\"Count\")\n",
    "plt.show()"
   ]
  },
  {
   "cell_type": "code",
   "execution_count": 69,
   "metadata": {},
   "outputs": [
    {
     "data": {
      "image/png": "[encoded data removed]",
      "text/plain": [
       "<Figure size 720x432 with 1 Axes>"
      ]
     },
     "metadata": {
      "needs_background": "light"
     },
     "output_type": "display_data"
    }
   ],
   "source": [
    "bar = hour_concat.plot(kind='bar', figsize=(10, 6))\n",
    "bar.set_xlabel(\"Time (hour)\")\n",
    "bar.set_ylabel(\"Count\")\n",
    "plt.show()"
   ]
  },
  {
   "cell_type": "markdown",
   "metadata": {},
   "source": [
    "# Testing\n",
    "Test the data in period of 1 day."
   ]
  },
  {
   "cell_type": "markdown",
   "metadata": {},
   "source": [
    "## Status count"
   ]
  },
  {
   "cell_type": "code",
   "execution_count": 6,
   "metadata": {},
   "outputs": [
    {
     "data": {
      "text/plain": [
       "997687"
      ]
     },
     "execution_count": 6,
     "metadata": {},
     "output_type": "execute_result"
    }
   ],
   "source": [
    "firstDay = data[data['date'] == '2018-01-01'].drop(['date', 'time', 'PostOfficeNum', 'others'],axis=1)\n",
    "secondDay = data[data['date'] == '2018-01-02'].drop(['date', 'time', 'PostOfficeNum', 'others'],axis=1)\n",
    "len(secondDay)"
   ]
  },
  {
   "cell_type": "code",
   "execution_count": 80,
   "metadata": {},
   "outputs": [
    {
     "data": {
      "text/plain": [
       "20"
      ]
     },
     "execution_count": 80,
     "metadata": {},
     "output_type": "execute_result"
    }
   ],
   "source": [
    "status1 = firstDay.statusNum.unique()\n",
    "status2 = secondDay.statusNum.unique()\n",
    "len(status)"
   ]
  },
  {
   "cell_type": "code",
   "execution_count": 15,
   "metadata": {},
   "outputs": [],
   "source": [
    "status1 = firstDay.groupby('statusNum').agg(['count'])\n",
    "status2 = secondDay.groupby('statusNum').agg(['count'])\n",
    "status = pd.merge(status1, status2, left_index=True, right_index=True).sum(axis=1)\n",
    "# status = [S[1] for S in status]"
   ]
  },
  {
   "cell_type": "code",
   "execution_count": 16,
   "metadata": {},
   "outputs": [
    {
     "data": {
      "text/plain": [
       "statusNum\n",
       "A1    253735\n",
       "A3       371\n",
       "G4       265\n",
       "H4     42702\n",
       "I2      9320\n",
       "I3        59\n",
       "I4    232603\n",
       "I7      2653\n",
       "P4      4432\n",
       "P5       204\n",
       "T2      1768\n",
       "V2       743\n",
       "V4        12\n",
       "W2       427\n",
       "X2      1744\n",
       "Y4    267639\n",
       "Z1      6821\n",
       "Z2      9579\n",
       "Z4    120929\n",
       "dtype: int64"
      ]
     },
     "execution_count": 16,
     "metadata": {},
     "output_type": "execute_result"
    }
   ],
   "source": [
    "status"
   ]
  },
  {
   "cell_type": "code",
   "execution_count": 17,
   "metadata": {},
   "outputs": [
    {
     "data": {
      "image/png": "[encoded data removed]",
      "text/plain": [
       "<Figure size 432x288 with 1 Axes>"
      ]
     },
     "metadata": {
      "needs_background": "light"
     },
     "output_type": "display_data"
    }
   ],
   "source": [
    "bar = status.plot(kind='bar')\n",
    "bar.set_xlabel(\"Status\")\n",
    "bar.set_ylabel(\"Count\")\n",
    "plt.show()"
   ]
  },
  {
   "cell_type": "markdown",
   "metadata": {},
   "source": [
    "## Status by time"
   ]
  },
  {
   "cell_type": "code",
   "execution_count": 55,
   "metadata": {},
   "outputs": [
    {
     "name": "stderr",
     "output_type": "stream",
     "text": [
      "C:\\Users\\USER\\Anaconda3\\lib\\site-packages\\ipykernel_launcher.py:3: SettingWithCopyWarning: \n",
      "A value is trying to be set on a copy of a slice from a DataFrame.\n",
      "Try using .loc[row_indexer,col_indexer] = value instead\n",
      "\n",
      "See the caveats in the documentation: http://pandas.pydata.org/pandas-docs/stable/indexing.html#indexing-view-versus-copy\n",
      "  This is separate from the ipykernel package so we can avoid doing imports until\n"
     ]
    },
    {
     "data": {
      "text/html": [
       "<div>\n",
       "<style scoped>\n",
       "    .dataframe tbody tr th:only-of-type {\n",
       "        vertical-align: middle;\n",
       "    }\n",
       "\n",
       "    .dataframe tbody tr th {\n",
       "        vertical-align: top;\n",
       "    }\n",
       "\n",
       "    .dataframe thead th {\n",
       "        text-align: right;\n",
       "    }\n",
       "</style>\n",
       "<table border=\"1\" class=\"dataframe\">\n",
       "  <thead>\n",
       "    <tr style=\"text-align: right;\">\n",
       "      <th></th>\n",
       "      <th>statusNum</th>\n",
       "      <th>mailNum</th>\n",
       "      <th>PostOfficeNum</th>\n",
       "      <th>others</th>\n",
       "      <th>datetime</th>\n",
       "    </tr>\n",
       "  </thead>\n",
       "  <tbody>\n",
       "    <tr>\n",
       "      <th>0</th>\n",
       "      <td>Y4</td>\n",
       "      <td>00000000000000</td>\n",
       "      <td>330031</td>\n",
       "      <td>003</td>\n",
       "      <td>2018-01-01 09:49:04</td>\n",
       "    </tr>\n",
       "    <tr>\n",
       "      <th>1</th>\n",
       "      <td>Y4</td>\n",
       "      <td>00000000000000</td>\n",
       "      <td>330031</td>\n",
       "      <td>002</td>\n",
       "      <td>2018-01-01 09:58:08</td>\n",
       "    </tr>\n",
       "    <tr>\n",
       "      <th>2</th>\n",
       "      <td>I4</td>\n",
       "      <td>00000000000000</td>\n",
       "      <td>330031</td>\n",
       "      <td></td>\n",
       "      <td>2018-01-01 14:11:51</td>\n",
       "    </tr>\n",
       "    <tr>\n",
       "      <th>3</th>\n",
       "      <td>Y4</td>\n",
       "      <td>00000000000000</td>\n",
       "      <td>330031</td>\n",
       "      <td>006</td>\n",
       "      <td>2018-01-01 14:23:32</td>\n",
       "    </tr>\n",
       "    <tr>\n",
       "      <th>4</th>\n",
       "      <td>I4</td>\n",
       "      <td>00000000000000</td>\n",
       "      <td>330031</td>\n",
       "      <td></td>\n",
       "      <td>2018-01-01 14:52:09</td>\n",
       "    </tr>\n",
       "  </tbody>\n",
       "</table>\n",
       "</div>"
      ],
      "text/plain": [
       "  statusNum               mailNum  PostOfficeNum  \\\n",
       "0        Y4  00000000000000               330031   \n",
       "1        Y4  00000000000000               330031   \n",
       "2        I4  00000000000000               330031   \n",
       "3        Y4  00000000000000               330031   \n",
       "4        I4  00000000000000               330031   \n",
       "\n",
       "                                       others            datetime  \n",
       "0        003                                  2018-01-01 09:49:04  \n",
       "1        002                                  2018-01-01 09:58:08  \n",
       "2                                             2018-01-01 14:11:51  \n",
       "3        006                                  2018-01-01 14:23:32  \n",
       "4                                             2018-01-01 14:52:09  "
      ]
     },
     "execution_count": 55,
     "metadata": {},
     "output_type": "execute_result"
    }
   ],
   "source": [
    "firstDay = data[data['date'] == '2018-01-01']\n",
    "# firstDay.dtypes\n",
    "firstDay['datetime'] = firstDay.loc[:,'date'] + \" \" + firstDay.loc[:,'time']\n",
    "firstDay = firstDay.drop(['date', 'time'], axis=1)\n",
    "firstDay['datetime'] = pd.to_datetime(firstDay['datetime'])\n",
    "firstDay.head()"
   ]
  },
  {
   "cell_type": "code",
   "execution_count": 60,
   "metadata": {},
   "outputs": [
    {
     "data": {
      "text/html": [
       "<div>\n",
       "<style scoped>\n",
       "    .dataframe tbody tr th:only-of-type {\n",
       "        vertical-align: middle;\n",
       "    }\n",
       "\n",
       "    .dataframe tbody tr th {\n",
       "        vertical-align: top;\n",
       "    }\n",
       "\n",
       "    .dataframe thead tr th {\n",
       "        text-align: left;\n",
       "    }\n",
       "\n",
       "    .dataframe thead tr:last-of-type th {\n",
       "        text-align: right;\n",
       "    }\n",
       "</style>\n",
       "<table border=\"1\" class=\"dataframe\">\n",
       "  <thead>\n",
       "    <tr>\n",
       "      <th></th>\n",
       "      <th>datetime</th>\n",
       "    </tr>\n",
       "    <tr>\n",
       "      <th></th>\n",
       "      <th>count</th>\n",
       "    </tr>\n",
       "    <tr>\n",
       "      <th>hour</th>\n",
       "      <th></th>\n",
       "    </tr>\n",
       "  </thead>\n",
       "  <tbody>\n",
       "    <tr>\n",
       "      <th>0</th>\n",
       "      <td>11</td>\n",
       "    </tr>\n",
       "    <tr>\n",
       "      <th>1</th>\n",
       "      <td>1</td>\n",
       "    </tr>\n",
       "    <tr>\n",
       "      <th>2</th>\n",
       "      <td>2</td>\n",
       "    </tr>\n",
       "    <tr>\n",
       "      <th>5</th>\n",
       "      <td>20</td>\n",
       "    </tr>\n",
       "    <tr>\n",
       "      <th>6</th>\n",
       "      <td>7</td>\n",
       "    </tr>\n",
       "    <tr>\n",
       "      <th>7</th>\n",
       "      <td>10</td>\n",
       "    </tr>\n",
       "    <tr>\n",
       "      <th>8</th>\n",
       "      <td>6</td>\n",
       "    </tr>\n",
       "    <tr>\n",
       "      <th>9</th>\n",
       "      <td>126</td>\n",
       "    </tr>\n",
       "    <tr>\n",
       "      <th>10</th>\n",
       "      <td>83</td>\n",
       "    </tr>\n",
       "    <tr>\n",
       "      <th>11</th>\n",
       "      <td>132</td>\n",
       "    </tr>\n",
       "    <tr>\n",
       "      <th>12</th>\n",
       "      <td>26</td>\n",
       "    </tr>\n",
       "    <tr>\n",
       "      <th>13</th>\n",
       "      <td>86</td>\n",
       "    </tr>\n",
       "    <tr>\n",
       "      <th>14</th>\n",
       "      <td>80</td>\n",
       "    </tr>\n",
       "    <tr>\n",
       "      <th>15</th>\n",
       "      <td>58</td>\n",
       "    </tr>\n",
       "    <tr>\n",
       "      <th>16</th>\n",
       "      <td>99</td>\n",
       "    </tr>\n",
       "    <tr>\n",
       "      <th>17</th>\n",
       "      <td>17</td>\n",
       "    </tr>\n",
       "    <tr>\n",
       "      <th>18</th>\n",
       "      <td>16</td>\n",
       "    </tr>\n",
       "    <tr>\n",
       "      <th>19</th>\n",
       "      <td>155</td>\n",
       "    </tr>\n",
       "    <tr>\n",
       "      <th>20</th>\n",
       "      <td>24</td>\n",
       "    </tr>\n",
       "    <tr>\n",
       "      <th>21</th>\n",
       "      <td>62</td>\n",
       "    </tr>\n",
       "    <tr>\n",
       "      <th>22</th>\n",
       "      <td>16</td>\n",
       "    </tr>\n",
       "    <tr>\n",
       "      <th>23</th>\n",
       "      <td>36</td>\n",
       "    </tr>\n",
       "  </tbody>\n",
       "</table>\n",
       "</div>"
      ],
      "text/plain": [
       "     datetime\n",
       "        count\n",
       "hour         \n",
       "0          11\n",
       "1           1\n",
       "2           2\n",
       "5          20\n",
       "6           7\n",
       "7          10\n",
       "8           6\n",
       "9         126\n",
       "10         83\n",
       "11        132\n",
       "12         26\n",
       "13         86\n",
       "14         80\n",
       "15         58\n",
       "16         99\n",
       "17         17\n",
       "18         16\n",
       "19        155\n",
       "20         24\n",
       "21         62\n",
       "22         16\n",
       "23         36"
      ]
     },
     "execution_count": 60,
     "metadata": {},
     "output_type": "execute_result"
    }
   ],
   "source": [
    "firstDay['hour'] = firstDay.datetime.dt.hour\n",
    "countByHour = firstDay.groupby('hour').agg(['count']).drop(['statusNum', 'mailNum', 'PostOfficeNum', 'others'], axis=1)\n",
    "countByHour"
   ]
  },
  {
   "cell_type": "code",
   "execution_count": 61,
   "metadata": {},
   "outputs": [
    {
     "data": {
      "image/png": "[encoded data removed]",
      "text/plain": [
       "<Figure size 432x288 with 1 Axes>"
      ]
     },
     "metadata": {
      "needs_background": "light"
     },
     "output_type": "display_data"
    }
   ],
   "source": [
    "bar = countByHour.plot(kind='bar')\n",
    "bar.set_xlabel(\"Hour\")\n",
    "bar.set_ylabel(\"Count\")\n",
    "plt.show()"
   ]
  },
  {
   "cell_type": "code",
   "execution_count": 76,
   "metadata": {},
   "outputs": [
    {
     "data": {
      "text/html": [
       "<div>\n",
       "<style scoped>\n",
       "    .dataframe tbody tr th:only-of-type {\n",
       "        vertical-align: middle;\n",
       "    }\n",
       "\n",
       "    .dataframe tbody tr th {\n",
       "        vertical-align: top;\n",
       "    }\n",
       "\n",
       "    .dataframe thead th {\n",
       "        text-align: right;\n",
       "    }\n",
       "</style>\n",
       "<table border=\"1\" class=\"dataframe\">\n",
       "  <thead>\n",
       "    <tr style=\"text-align: right;\">\n",
       "      <th></th>\n",
       "      <th>statusNum</th>\n",
       "      <th>mailNum</th>\n",
       "      <th>PostOfficeNum</th>\n",
       "      <th>others</th>\n",
       "      <th>datetime</th>\n",
       "      <th>hour</th>\n",
       "      <th>weekday</th>\n",
       "      <th>month</th>\n",
       "    </tr>\n",
       "  </thead>\n",
       "  <tbody>\n",
       "    <tr>\n",
       "      <th>0</th>\n",
       "      <td>Y4</td>\n",
       "      <td>00000000000000</td>\n",
       "      <td>330031</td>\n",
       "      <td>003</td>\n",
       "      <td>2018-01-01 09:49:04</td>\n",
       "      <td>9</td>\n",
       "      <td>0</td>\n",
       "      <td>1</td>\n",
       "    </tr>\n",
       "    <tr>\n",
       "      <th>1</th>\n",
       "      <td>Y4</td>\n",
       "      <td>00000000000000</td>\n",
       "      <td>330031</td>\n",
       "      <td>002</td>\n",
       "      <td>2018-01-01 09:58:08</td>\n",
       "      <td>9</td>\n",
       "      <td>0</td>\n",
       "      <td>1</td>\n",
       "    </tr>\n",
       "    <tr>\n",
       "      <th>2</th>\n",
       "      <td>I4</td>\n",
       "      <td>00000000000000</td>\n",
       "      <td>330031</td>\n",
       "      <td></td>\n",
       "      <td>2018-01-01 14:11:51</td>\n",
       "      <td>14</td>\n",
       "      <td>0</td>\n",
       "      <td>1</td>\n",
       "    </tr>\n",
       "    <tr>\n",
       "      <th>3</th>\n",
       "      <td>Y4</td>\n",
       "      <td>00000000000000</td>\n",
       "      <td>330031</td>\n",
       "      <td>006</td>\n",
       "      <td>2018-01-01 14:23:32</td>\n",
       "      <td>14</td>\n",
       "      <td>0</td>\n",
       "      <td>1</td>\n",
       "    </tr>\n",
       "    <tr>\n",
       "      <th>4</th>\n",
       "      <td>I4</td>\n",
       "      <td>00000000000000</td>\n",
       "      <td>330031</td>\n",
       "      <td></td>\n",
       "      <td>2018-01-01 14:52:09</td>\n",
       "      <td>14</td>\n",
       "      <td>0</td>\n",
       "      <td>1</td>\n",
       "    </tr>\n",
       "  </tbody>\n",
       "</table>\n",
       "</div>"
      ],
      "text/plain": [
       "  statusNum               mailNum  PostOfficeNum  \\\n",
       "0        Y4  00000000000000               330031   \n",
       "1        Y4  00000000000000               330031   \n",
       "2        I4  00000000000000               330031   \n",
       "3        Y4  00000000000000               330031   \n",
       "4        I4  00000000000000               330031   \n",
       "\n",
       "                                       others            datetime  hour  \\\n",
       "0        003                                  2018-01-01 09:49:04     9   \n",
       "1        002                                  2018-01-01 09:58:08     9   \n",
       "2                                             2018-01-01 14:11:51    14   \n",
       "3        006                                  2018-01-01 14:23:32    14   \n",
       "4                                             2018-01-01 14:52:09    14   \n",
       "\n",
       "   weekday  month  \n",
       "0        0      1  \n",
       "1        0      1  \n",
       "2        0      1  \n",
       "3        0      1  \n",
       "4        0      1  "
      ]
     },
     "execution_count": 76,
     "metadata": {},
     "output_type": "execute_result"
    }
   ],
   "source": [
    "firstDay['weekday'] = firstDay.datetime.dt.weekday\n",
    "firstDay['month'] = firstDay.datetime.dt.month\n",
    "firstDay.head()"
   ]
  }
 ],
 "metadata": {
  "kernelspec": {
   "display_name": "Python 3",
   "language": "python",
   "name": "python3"
  },
  "language_info": {
   "codemirror_mode": {
    "name": "ipython",
    "version": 3
   },
   "file_extension": ".py",
   "mimetype": "text/x-python",
   "name": "python",
   "nbconvert_exporter": "python",
   "pygments_lexer": "ipython3",
   "version": "3.6.8"
  }
 },
 "nbformat": 4,
 "nbformat_minor": 2
}
